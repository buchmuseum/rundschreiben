{
 "cells": [
  {
   "cell_type": "code",
   "execution_count": 2,
   "metadata": {},
   "outputs": [],
   "source": [
    "import pandas as pd\n",
    "from datetime import datetime\n",
    "\n",
    "rawpath = \"../raw/\""
   ]
  },
  {
   "cell_type": "code",
   "execution_count": 4,
   "metadata": {},
   "outputs": [
    {
     "name": "stdout",
     "output_type": "stream",
     "text": [
      "<class 'pandas.core.frame.DataFrame'>\n",
      "RangeIndex: 82 entries, 0 to 81\n",
      "Data columns (total 15 columns):\n",
      " #   Column           Non-Null Count  Dtype \n",
      "---  ------           --------------  ----- \n",
      " 0   signatur         82 non-null     string\n",
      " 1   jahr             82 non-null     string\n",
      " 2   datum            82 non-null     string\n",
      " 3   medienart        82 non-null     string\n",
      " 4   sprache          82 non-null     string\n",
      " 5   land             82 non-null     string\n",
      " 6   koerperschaft_1  82 non-null     string\n",
      " 7   koerperschaft_2  10 non-null     string\n",
      " 8   person           25 non-null     string\n",
      " 9   titel            82 non-null     string\n",
      " 10  urheber_vorlage  82 non-null     string\n",
      " 11  ort              82 non-null     string\n",
      " 12  ort_idn          82 non-null     string\n",
      " 13  umfang           82 non-null     string\n",
      " 14  bemerkung        21 non-null     string\n",
      "dtypes: string(15)\n",
      "memory usage: 9.7 KB\n"
     ]
    },
    {
     "name": "stderr",
     "output_type": "stream",
     "text": [
      "/home/andre/.cache/pypoetry/virtualenvs/base-_zdkNckr-py3.10/lib/python3.10/site-packages/openpyxl/worksheet/_reader.py:312: UserWarning: Data Validation extension is not supported and will be removed\n",
      "  warn(msg)\n"
     ]
    }
   ],
   "source": [
    "df = pd.read_excel(f\"{rawpath}/2022-ES-Tabelle.xlsx\", names=['signatur','jahr','datum','medienart','sprache','land','koerperschaft_1','koerperschaft_2','person', 'titel','urheber_vorlage','ort','ort_idn','umfang','bemerkung'], dtype='string')\n",
    "df = df.apply(lambda x: x.str.strip())\n",
    "df.info()"
   ]
  },
  {
   "cell_type": "code",
   "execution_count": 3,
   "metadata": {},
   "outputs": [],
   "source": [
    "def pica_schreiben(row):\n",
    "    pica = f\"\"\"0500 Da\n",
    "0501 Text$btxt\n",
    "0502 ohne Hilfsmittel zu benutzen$bn\n",
    "0503 Blatt$bnb\n",
    "0600 yy\n",
    "1100 {row.jahr}\n",
    "1110 {row.datum}$4ezth\n",
    "1130 !040445224!\n",
    "1131 !040082407!\n",
    "1132 a1-analog;a2-{row.medienart};f1-text;f2-blatt\n",
    "1500 /1{row.sprache}\n",
    "1700 /1{row.land}\n",
    "3100 {row.koerperschaft_1}$BVerfasser$4aut\n",
    "\"\"\"\n",
    "    if pd.notna(row.koerperschaft_2):\n",
    "        pica += f\"3110 {row.koerperschaft_2}$BVerfasser$4aut\\n\"\n",
    "    \n",
    "    if pd.notna(row.person):\n",
    "        pica += f\"3010 {row.person}$BVerfasser$4aut\\n\"\n",
    "    \n",
    "    pica += f\"\"\"4000 {row.titel} / {row.urheber_vorlage}\n",
    "4019 Geschäftsrundschreiben$Bobja\n",
    "4046 {row.ort}\n",
    "4060 {row.umfang}\n",
    "4105 !1059146037!\n",
    "4105 !1077661932!\n",
    "\"\"\"\n",
    "    if pd.notna(row.bemerkung):\n",
    "        pica += f\"4222 {row.bemerkung}\\n\"\n",
    "    \n",
    "    pica += f\"\"\"4700 |BSM|\n",
    "5560 [RNA]Korrespondenz\n",
    "5590 [Entstehungsort]\n",
    "5590 {row.ort_idn}\n",
    "5591 [Objektgattung]\n",
    "5591 !042993512!\n",
    "7001 {now.strftime('%d-%m-%y')} : x\n",
    "4800 !009033645!\n",
    "6710 !103243757X!\n",
    "7100 {row.signatur} @ m\n",
    "7109 !!DBSM/S!! ; {row.signatur}\n",
    "\\t\\n\"\"\"\n",
    "    return pica"
   ]
  },
  {
   "cell_type": "code",
   "execution_count": 4,
   "metadata": {},
   "outputs": [
    {
     "name": "stdout",
     "output_type": "stream",
     "text": [
      "0500 Da\n",
      "0501 Text$btxt\n",
      "0502 ohne Hilfsmittel zu benutzen$bn\n",
      "0503 Blatt$bnb\n",
      "0600 yy\n",
      "1100 1895\n",
      "1110 27.08.1895$4ezth\n",
      "1130 !040445224!\n",
      "1131 !040082407!\n",
      "1132 a1-analog;a2-druck;f1-text;f2-blatt\n",
      "1500 /1ger\n",
      "1700 /1XA-DXDE\n",
      "3100 J. Veith$BVerfasser$4aut\n",
      "3010 Wittwer, Konrad$BVerfasser$4aut\n",
      "4000 Verkauf an Konrad Wittwer, der die Firma nach Stuttgart verlegt. / Konrad Wittwer\n",
      "4019 Geschäftsrundschreiben$Bobja\n",
      "4046 Stuttgart\n",
      "4060 2 Exemplare\n",
      "4105 !1059146037!\n",
      "4105 !1077661932!\n",
      "4700 |BSM|\n",
      "5560 [RNA]Korrespondenz\n",
      "5590 [Entstehungsort]\n",
      "5590 !040582825!\n",
      "5591 [Objektgattung]\n",
      "5591 !042993512!\n",
      "7001 08-09-22 : x\n",
      "4800 !009033645!\n",
      "6710 !103243757X!\n",
      "7100 Bö-GR/V/76 @ m\n",
      "7109 !!DBSM/S!! ; Bö-GR/V/76\n",
      "\t\n",
      "\n",
      "0500 Da\n",
      "0501 Text$btxt\n",
      "0502 ohne Hilfsmittel zu benutzen$bn\n",
      "0503 Blatt$bnb\n",
      "0600 yy\n",
      "1100 1875\n",
      "1110 01.04.1875$4ezth\n",
      "1130 !040445224!\n",
      "1131 !040082407!\n",
      "1132 a1-analog;a2-druck;f1-text;f2-blatt\n",
      "1500 /1ger\n",
      "1700 /1XA-DXDE\n",
      "3100 C. Veith'sche Buchhandlung$BVerfasser$4aut\n",
      "3010 Boller, Oscar$BVerfasser$4aut\n",
      "4000 Verkauf der Buch-, Kunst- und Schreibmaterialien-Handlung an Fritz Fick aus Würzburg. / Oscar Boller\n",
      "4019 Geschäftsrundschreiben$Bobja\n",
      "4046 Donauwörth\n",
      "4060 9 Exemplare\n",
      "4105 !1059146037!\n",
      "4105 !1077661932!\n",
      "4222 Zeugnis\n",
      "4700 |BSM|\n",
      "5560 [RNA]Korrespondenz\n",
      "5590 [Entstehungsort]\n",
      "5590 !040127214!\n",
      "5591 [Objektgattung]\n",
      "5591 !042993512!\n",
      "7001 08-09-22 : x\n",
      "4800 !009033645!\n",
      "6710 !103243757X!\n",
      "7100 Bö-GR/V/73 @ m\n",
      "7109 !!DBSM/S!! ; Bö-GR/V/73\n",
      "\t\n",
      "\n"
     ]
    }
   ],
   "source": [
    "now = datetime.now()\n",
    "for index, row in df.sample(2).iterrows():\n",
    "    print(pica_schreiben(row))"
   ]
  },
  {
   "cell_type": "code",
   "execution_count": 5,
   "metadata": {},
   "outputs": [],
   "source": [
    "now = datetime.now()\n",
    "with open(f\"../dat/rundschreiben-{now.strftime('%y-%m-%d-%H-%M-%S')}.dat\",\"w\") as f:\n",
    "    with open(f\"../dat/rundschreiben-recent.dat\", 'w') as f2:\n",
    "        for index, row in df.iterrows():\n",
    "            f.write(pica_schreiben(row))\n",
    "            f2.write(pica_schreiben(row))\n",
    "\n",
    "with open(f\"../dat/rundschreiben-recent-sample.dat\", 'w') as f:\n",
    "    for index, row in df.sample(5).iterrows():\n",
    "        f.write(pica_schreiben(row))"
   ]
  }
 ],
 "metadata": {
  "kernelspec": {
   "display_name": "Python 3.10.6 ('base-_zdkNckr-py3.10')",
   "language": "python",
   "name": "python3"
  },
  "language_info": {
   "codemirror_mode": {
    "name": "ipython",
    "version": 3
   },
   "file_extension": ".py",
   "mimetype": "text/x-python",
   "name": "python",
   "nbconvert_exporter": "python",
   "pygments_lexer": "ipython3",
   "version": "3.10.6"
  },
  "orig_nbformat": 4,
  "vscode": {
   "interpreter": {
    "hash": "8d56b1783d2887ae3089e63d1ac7a447d9c0dba0983b3c9c0a662f8abd9db8a7"
   }
  }
 },
 "nbformat": 4,
 "nbformat_minor": 2
}
