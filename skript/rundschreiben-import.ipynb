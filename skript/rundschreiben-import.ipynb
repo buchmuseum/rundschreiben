{
 "cells": [
  {
   "cell_type": "code",
   "execution_count": 4,
   "metadata": {},
   "outputs": [],
   "source": [
    "import pandas as pd\n",
    "from datetime import datetime\n",
    "\n",
    "rawpath = \"../raw/\""
   ]
  },
  {
   "cell_type": "code",
   "execution_count": 5,
   "metadata": {},
   "outputs": [
    {
     "name": "stderr",
     "output_type": "stream",
     "text": [
      "/home/dbsm/.cache/pypoetry/virtualenvs/base-K0tRBB7f-py3.10/lib/python3.10/site-packages/openpyxl/worksheet/_reader.py:312: UserWarning: Data Validation extension is not supported and will be removed\n",
      "  warn(msg)\n"
     ]
    }
   ],
   "source": [
    "df = pd.read_excel(f\"{rawpath}/2022-ES-Tabelle.xlsx\", names=['signatur','jahr','datum','medienart','sprache','land','koerperschaft_1','koerperschaft_2','person', 'titel','urheber_vorlage','ort','ort_idn','umfang','bemerkung','vorh'], dtype='string')\n",
    "df = df.apply(lambda x: x.str.strip())\n",
    "df = df[pd.isna(df.vorh)]\n"
   ]
  },
  {
   "cell_type": "code",
   "execution_count": 6,
   "metadata": {},
   "outputs": [],
   "source": [
    "def pica_schreiben(row):\n",
    "    pica = f\"\"\"0500 Da\n",
    "0501 Text$btxt\n",
    "0502 ohne Hilfsmittel zu benutzen$bn\n",
    "0503 Blatt$bnb\n",
    "0600 yy\n",
    "1100 {row.jahr}\n",
    "\"\"\"\n",
    "    if pd.notna(row.datum):\n",
    "        if row.datum.startswith('['):\n",
    "            pica += f\"1110 {row.datum}*{row.jahr}$4ezth\\n\"\n",
    "        else:\n",
    "            pica += f\"1110 {row.datum}$4ezth\\n\"\n",
    "\n",
    "\n",
    "\n",
    "    pica += f\"\"\"1130 !040445224!\n",
    "1131 !040082407!\n",
    "1132 a1-analog;a2-{row.medienart};f1-text;f2-blatt\n",
    "1500 /1{row.sprache}\n",
    "\"\"\"\n",
    "    pica += f\"1700 /1{'/1'.join(row.land.split(';'))}\\n\"\n",
    "\n",
    "    pica += f\"3100 {row.koerperschaft_1}$BVerfasser$4aut\\n\"\n",
    "\n",
    "    if pd.notna(row.koerperschaft_2):\n",
    "        pica += f\"3110 {row.koerperschaft_2}$BVerfasser$4aut\\n\"\n",
    "    \n",
    "    if pd.notna(row.person):\n",
    "        pica += f\"3010 {row.person}$BVerfasser$4aut\\n\"\n",
    "    \n",
    "    pica += f\"\"\"4000 {row.titel} / {row.urheber_vorlage}\n",
    "4019 Geschäftsrundschreiben$Bobja\n",
    "4046 {row.ort}\n",
    "4060 {row.umfang}\n",
    "4105 !1059146037!\n",
    "4105 !1077661932!\n",
    "\"\"\"\n",
    "    if pd.notna(row.bemerkung):\n",
    "        pica += f\"4222 {row.bemerkung}\\n\"\n",
    "    \n",
    "    pica += f\"\"\"4700 |BSM|\n",
    "5560 [RNA]Korrespondenz\n",
    "5590 [Entstehungsort]\n",
    "5590 {row.ort_idn}\n",
    "5591 [Objektgattung]\n",
    "5591 !042993512!\n",
    "7001 {now.strftime('%d-%m-%y')} : x\n",
    "4800 !009033645!\n",
    "6710 !103243757X!\n",
    "7100 {row.signatur} @ m\n",
    "7109 !!DBSM/S!! ; {row.signatur}\n",
    "\\t\\n\"\"\"\n",
    "    return pica"
   ]
  },
  {
   "cell_type": "code",
   "execution_count": 7,
   "metadata": {},
   "outputs": [
    {
     "name": "stdout",
     "output_type": "stream",
     "text": [
      "0500 Da\n",
      "0501 Text$btxt\n",
      "0502 ohne Hilfsmittel zu benutzen$bn\n",
      "0503 Blatt$bnb\n",
      "0600 yy\n",
      "1100 1887\n",
      "1110 XX.06.1887$4ezth\n",
      "1130 !040445224!\n",
      "1131 !040082407!\n",
      "1132 a1-analog;a2-druck;f1-text;f2-blatt\n",
      "1500 /1ger\n",
      "1700 /1XA-DXDE\n",
      "3100 Verlag des Neuen Freireligiösen Sonntags-Blattes$BVerfasser$4aut\n",
      "3110 Hesse & Co.$BVerfasser$4aut\n",
      "3010 Voelkel,$BVerfasser$4aut\n",
      "4000 Treten mit dem Gesamtbuchhandel in Verbindung. / <NA>\n",
      "4019 Geschäftsrundschreiben$Bobja\n",
      "4046 Magdeburg\n",
      "4060 1 Exemplar\n",
      "4105 !1059146037!\n",
      "4105 !1077661932!\n",
      "4700 |BSM|\n",
      "5560 [RNA]Korrespondenz\n",
      "5590 [Entstehungsort]\n",
      "5590 !04036934X!\n",
      "5591 [Objektgattung]\n",
      "5591 !042993512!\n",
      "7001 23-11-22 : x\n",
      "4800 !009033645!\n",
      "6710 !103243757X!\n",
      "7100 Bö-GR/V/262 @ m\n",
      "7109 !!DBSM/S!! ; Bö-GR/V/262\n",
      "\t\n",
      "\n",
      "0500 Da\n",
      "0501 Text$btxt\n",
      "0502 ohne Hilfsmittel zu benutzen$bn\n",
      "0503 Blatt$bnb\n",
      "0600 yy\n",
      "1100 1823\n",
      "1110 26.02.1823$4ezth\n",
      "1130 !040445224!\n",
      "1131 !040082407!\n",
      "1132 a1-analog;a2-druck;f1-text;f2-blatt\n",
      "1500 /1ger\n",
      "1700 /1XA-DXDE\n",
      "3100 Vereinsbuchhandlung Berlin$BVerfasser$4aut\n",
      "4000 Gründung einer Verlags- und Sortiments-Buchhandlung. / Vereins-Buchhandlung\n",
      "4019 Geschäftsrundschreiben$Bobja\n",
      "4046 Berlin\n",
      "4060 1 Exemplar\n",
      "4105 !1059146037!\n",
      "4105 !1077661932!\n",
      "4222 Verlagsliste\n",
      "4700 |BSM|\n",
      "5560 [RNA]Korrespondenz\n",
      "5590 [Entstehungsort]\n",
      "5590 !040057283!\n",
      "5591 [Objektgattung]\n",
      "5591 !042993512!\n",
      "7001 23-11-22 : x\n",
      "4800 !009033645!\n",
      "6710 !103243757X!\n",
      "7100 Bö-GR/V/121 @ m\n",
      "7109 !!DBSM/S!! ; Bö-GR/V/121\n",
      "\t\n",
      "\n"
     ]
    }
   ],
   "source": [
    "now = datetime.now()\n",
    "for index, row in df.sample(2).iterrows():\n",
    "    print(pica_schreiben(row))"
   ]
  },
  {
   "cell_type": "code",
   "execution_count": 8,
   "metadata": {},
   "outputs": [],
   "source": [
    "now = datetime.now()\n",
    "with open(f\"../dat/rundschreiben-{now.strftime('%y-%m-%d-%H-%M-%S')}.dat\",\"w\") as f:\n",
    "    with open(f\"../dat/rundschreiben-recent.dat\", 'w') as f2:\n",
    "        for index, row in df.iterrows():\n",
    "            f.write(pica_schreiben(row))\n",
    "            f2.write(pica_schreiben(row))\n",
    "\n",
    "with open(f\"../dat/rundschreiben-recent-sample.dat\", 'w') as f:\n",
    "    for index, row in df.sample(5).iterrows():\n",
    "        f.write(pica_schreiben(row))"
   ]
  },
  {
   "cell_type": "code",
   "execution_count": null,
   "metadata": {},
   "outputs": [],
   "source": [
    "csfn_valnorm -u -c FCV#pica#pica#title -k VALTAB#title -s rundschreiben-recent.stat -e valtest-rundschreiben-recent.err -n -o  BVBIBIDN < rundschreiben-recent.dat.pplus 1>valtest-rundschreiben-recent.out 2>valtest-rundschreiben-recent.stderr\n",
    "\n"
   ]
  }
 ],
 "metadata": {
  "kernelspec": {
   "display_name": "Python 3.10.7 ('base-K0tRBB7f-py3.10')",
   "language": "python",
   "name": "python3"
  },
  "language_info": {
   "codemirror_mode": {
    "name": "ipython",
    "version": 3
   },
   "file_extension": ".py",
   "mimetype": "text/x-python",
   "name": "python",
   "nbconvert_exporter": "python",
   "pygments_lexer": "ipython3",
   "version": "3.10.7"
  },
  "orig_nbformat": 4,
  "vscode": {
   "interpreter": {
    "hash": "17a4469d8b22bc7150161bba090999ebb3f50738e3290d8b3a28782e2c67258b"
   }
  }
 },
 "nbformat": 4,
 "nbformat_minor": 2
}
